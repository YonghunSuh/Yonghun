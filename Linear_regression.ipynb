{
  "nbformat": 4,
  "nbformat_minor": 0,
  "metadata": {
    "colab": {
      "name": "Linear regression.ipynb",
      "provenance": [],
      "collapsed_sections": [],
      "authorship_tag": "ABX9TyNR5gjvoH4nEPvIty8RQt8x",
      "include_colab_link": true
    },
    "kernelspec": {
      "name": "python3",
      "display_name": "Python 3"
    },
    "language_info": {
      "name": "python"
    },
    "accelerator": "GPU"
  },
  "cells": [
    {
      "cell_type": "markdown",
      "metadata": {
        "id": "view-in-github",
        "colab_type": "text"
      },
      "source": [
        "<a href=\"https://colab.research.google.com/github/YonghunSuh/Yonghun/blob/main/Linear_regression.ipynb\" target=\"_parent\"><img src=\"https://colab.research.google.com/assets/colab-badge.svg\" alt=\"Open In Colab\"/></a>"
      ]
    },
    {
      "cell_type": "code",
      "metadata": {
        "colab": {
          "base_uri": "https://localhost:8080/"
        },
        "id": "bbf3dH3lJGsZ",
        "outputId": "76ce1639-3f39-4459-d127-540ad418da1f"
      },
      "source": [
        "!nvidia-smi"
      ],
      "execution_count": 4,
      "outputs": [
        {
          "output_type": "stream",
          "name": "stdout",
          "text": [
            "Tue Oct 26 06:10:45 2021       \n",
            "+-----------------------------------------------------------------------------+\n",
            "| NVIDIA-SMI 470.74       Driver Version: 460.32.03    CUDA Version: 11.2     |\n",
            "|-------------------------------+----------------------+----------------------+\n",
            "| GPU  Name        Persistence-M| Bus-Id        Disp.A | Volatile Uncorr. ECC |\n",
            "| Fan  Temp  Perf  Pwr:Usage/Cap|         Memory-Usage | GPU-Util  Compute M. |\n",
            "|                               |                      |               MIG M. |\n",
            "|===============================+======================+======================|\n",
            "|   0  Tesla K80           Off  | 00000000:00:04.0 Off |                    0 |\n",
            "| N/A   34C    P8    26W / 149W |      0MiB / 11441MiB |      0%      Default |\n",
            "|                               |                      |                  N/A |\n",
            "+-------------------------------+----------------------+----------------------+\n",
            "                                                                               \n",
            "+-----------------------------------------------------------------------------+\n",
            "| Processes:                                                                  |\n",
            "|  GPU   GI   CI        PID   Type   Process name                  GPU Memory |\n",
            "|        ID   ID                                                   Usage      |\n",
            "|=============================================================================|\n",
            "|  No running processes found                                                 |\n",
            "+-----------------------------------------------------------------------------+\n"
          ]
        }
      ]
    },
    {
      "cell_type": "code",
      "metadata": {
        "id": "gGHvhQIgJI3w"
      },
      "source": [
        "import torch "
      ],
      "execution_count": 5,
      "outputs": []
    },
    {
      "cell_type": "code",
      "metadata": {
        "colab": {
          "base_uri": "https://localhost:8080/",
          "height": 35
        },
        "id": "fljYO6twOV4Y",
        "outputId": "50c9cf5e-04a8-45b9-d4a6-e1cc0c46517e"
      },
      "source": [
        "torch.__version__"
      ],
      "execution_count": 6,
      "outputs": [
        {
          "output_type": "execute_result",
          "data": {
            "application/vnd.google.colaboratory.intrinsic+json": {
              "type": "string"
            },
            "text/plain": [
              "'1.9.0+cu111'"
            ]
          },
          "metadata": {},
          "execution_count": 6
        }
      ]
    },
    {
      "cell_type": "code",
      "metadata": {
        "id": "t30ObmAPRjUL"
      },
      "source": [
        "import numpy as np\n",
        "import matplotlib.pyplot as plt"
      ],
      "execution_count": 8,
      "outputs": []
    },
    {
      "cell_type": "code",
      "metadata": {
        "id": "AHk7H6OZSWuc"
      },
      "source": [
        "m = 100\n",
        "X = 2 * torch.rand(m,1)\n",
        "y = 4+3*X + torch.randn(m,1)  #랜덤 변수, randn 가오시안 분포를 따라감 (랜덤에 노이즈를 줌)"
      ],
      "execution_count": 10,
      "outputs": []
    },
    {
      "cell_type": "code",
      "metadata": {
        "colab": {
          "base_uri": "https://localhost:8080/"
        },
        "id": "H8ZZkEQcSmjJ",
        "outputId": "3a0fb5cc-1eac-4367-e114-7edb061d2992"
      },
      "source": [
        "X[:10], y[:10]"
      ],
      "execution_count": 11,
      "outputs": [
        {
          "output_type": "execute_result",
          "data": {
            "text/plain": [
              "(tensor([[1.4316],\n",
              "         [0.4912],\n",
              "         [1.5765],\n",
              "         [1.1123],\n",
              "         [1.0366],\n",
              "         [0.1029],\n",
              "         [0.5448],\n",
              "         [0.2070],\n",
              "         [1.1125],\n",
              "         [0.4106]]), tensor([[8.8824],\n",
              "         [6.2443],\n",
              "         [7.3210],\n",
              "         [7.6254],\n",
              "         [5.9460],\n",
              "         [4.2689],\n",
              "         [7.2408],\n",
              "         [5.0308],\n",
              "         [8.0215],\n",
              "         [6.8165]]))"
            ]
          },
          "metadata": {},
          "execution_count": 11
        }
      ]
    },
    {
      "cell_type": "code",
      "metadata": {
        "colab": {
          "base_uri": "https://localhost:8080/",
          "height": 283
        },
        "id": "mtExYEX_StuR",
        "outputId": "48e679a2-8893-4669-a8ed-f62f101b01bd"
      },
      "source": [
        "plt.scatter(X, y, s=10)"
      ],
      "execution_count": 26,
      "outputs": [
        {
          "output_type": "execute_result",
          "data": {
            "text/plain": [
              "<matplotlib.collections.PathCollection at 0x7fd00c00ac10>"
            ]
          },
          "metadata": {},
          "execution_count": 26
        },
        {
          "output_type": "display_data",
          "data": {
            "image/png": "[encoded data removed]",
            "text/plain": [
              "<Figure size 432x288 with 1 Axes>"
            ]
          },
          "metadata": {
            "needs_background": "light"
          }
        }
      ]
    },
    {
      "cell_type": "code",
      "metadata": {
        "id": "DLedaRV4Tvi-"
      },
      "source": [
        "from sklearn.model_selection import train_test_split"
      ],
      "execution_count": 15,
      "outputs": []
    },
    {
      "cell_type": "code",
      "metadata": {
        "id": "W5XkhOrLT2uY"
      },
      "source": [
        "X_train, X_test, y_train, y_test, = train_test_split(X,y ,test_size= 0.2)"
      ],
      "execution_count": 16,
      "outputs": []
    },
    {
      "cell_type": "code",
      "metadata": {
        "colab": {
          "base_uri": "https://localhost:8080/",
          "height": 283
        },
        "id": "vgV331-YUDLN",
        "outputId": "cf113e30-9bea-4071-89d1-2e60cf333327"
      },
      "source": [
        "plt.scatter(X_train, y_train)\n",
        "plt.scatter(X_test, y_test)"
      ],
      "execution_count": 23,
      "outputs": [
        {
          "output_type": "execute_result",
          "data": {
            "text/plain": [
              "<matplotlib.collections.PathCollection at 0x7fd00c51ccd0>"
            ]
          },
          "metadata": {},
          "execution_count": 23
        },
        {
          "output_type": "display_data",
          "data": {
            "image/png": "[encoded data removed]",
            "text/plain": [
              "<Figure size 432x288 with 1 Axes>"
            ]
          },
          "metadata": {
            "needs_background": "light"
          }
        }
      ]
    },
    {
      "cell_type": "code",
      "metadata": {
        "id": "YH4Qv3_DUM8I"
      },
      "source": [
        "from torch import nn as nn\n",
        "from torch.nn import functional as F"
      ],
      "execution_count": 46,
      "outputs": []
    },
    {
      "cell_type": "code",
      "metadata": {
        "id": "ce2gSpTcURc2"
      },
      "source": [
        "# Model 만들기 \n",
        "## LinearRegression 만들기\n"
      ],
      "execution_count": 47,
      "outputs": []
    },
    {
      "cell_type": "code",
      "metadata": {
        "id": "s3UIc2jaWFDZ"
      },
      "source": [
        "class My_linearRegression(nn.Module) : \n",
        "  def __init__(self) :\n",
        "    super().__init__()\n",
        "\n",
        "    self.linear = nn.Linear(1,1)\n",
        "\n",
        "  def forward(self,x):\n",
        "    return self.linear(x)"
      ],
      "execution_count": 80,
      "outputs": []
    },
    {
      "cell_type": "code",
      "metadata": {
        "id": "Vo7M6x52WxOq"
      },
      "source": [
        "model = My_linearRegression()"
      ],
      "execution_count": 81,
      "outputs": []
    },
    {
      "cell_type": "code",
      "metadata": {
        "colab": {
          "base_uri": "https://localhost:8080/"
        },
        "id": "oreQvCr6Y7gJ",
        "outputId": "eca25289-82eb-4298-8d20-05561ecee324"
      },
      "source": [
        "model"
      ],
      "execution_count": 82,
      "outputs": [
        {
          "output_type": "execute_result",
          "data": {
            "text/plain": [
              "My_linearRegression(\n",
              "  (linear): Linear(in_features=1, out_features=1, bias=True)\n",
              ")"
            ]
          },
          "metadata": {},
          "execution_count": 82
        }
      ]
    },
    {
      "cell_type": "code",
      "metadata": {
        "id": "a3rOy7LHY-xv"
      },
      "source": [
        "out = model(X)"
      ],
      "execution_count": 83,
      "outputs": []
    },
    {
      "cell_type": "code",
      "metadata": {
        "id": "jbUuA3Oqeg3M"
      },
      "source": [
        "cost = F.mse_loss(out,y)"
      ],
      "execution_count": 84,
      "outputs": []
    },
    {
      "cell_type": "code",
      "metadata": {
        "id": "2otENmb9enYE"
      },
      "source": [
        "import torch.optim as optim"
      ],
      "execution_count": 85,
      "outputs": []
    },
    {
      "cell_type": "code",
      "metadata": {
        "id": "C0FucnoQe-54"
      },
      "source": [
        "optimizer = optim.SGD(model.parameters(),lr = 0.01)"
      ],
      "execution_count": 86,
      "outputs": []
    },
    {
      "cell_type": "code",
      "metadata": {
        "id": "N5E3ea-GfSzK"
      },
      "source": [
        "optimizer.zero_grad() #기존 Gradient를 0으로 만들어서 GD를 정상적으로 동작하게 한다. \n",
        "cost.backward() # cost function을 미분\n",
        "optimizer.step() # W를 미분값에 따라서 이동"
      ],
      "execution_count": 87,
      "outputs": []
    },
    {
      "cell_type": "code",
      "metadata": {
        "id": "b_KhfjBifmYa"
      },
      "source": [
        "### Training"
      ],
      "execution_count": 88,
      "outputs": []
    },
    {
      "cell_type": "code",
      "metadata": {
        "colab": {
          "base_uri": "https://localhost:8080/"
        },
        "id": "l1hDMtnmgJws",
        "outputId": "370c1ac8-6f60-41d8-a4e3-1cc538c346b3"
      },
      "source": [
        "model = My_linearRegression()\n",
        "optimizer = optim.SGD(model.parameters(), lr = 0.01)\n",
        "\n",
        "epochs = 1000\n",
        "for epoch in range(epochs) :\n",
        "  out = model(X_train)\n",
        "  cost = F.mse_loss(out, y_train)\n",
        "\n",
        "  optimizer.zero_grad()\n",
        "  cost.backward()\n",
        "  optimizer.step()  \n",
        "\n",
        "  if epoch % 20 == 0:\n",
        "    params = list(model.parameters())\n",
        "    W = params[0].item()\n",
        "    b = params[1].item()\n",
        "\n",
        "    print(W,b)"
      ],
      "execution_count": 91,
      "outputs": [
        {
          "output_type": "stream",
          "name": "stdout",
          "text": [
            "0.9588047862052917 -0.5136708617210388\n",
            "3.190622091293335 1.2555158138275146\n",
            "3.9075467586517334 1.9032156467437744\n",
            "4.1143598556518555 2.1699647903442383\n",
            "4.150379657745361 2.3059873580932617\n",
            "4.1301589012146 2.3958911895751953\n",
            "4.092324256896973 2.4683382511138916\n",
            "4.049866676330566 2.533090353012085\n",
            "4.007115364074707 2.5935206413269043\n",
            "3.965480327606201 2.6508429050445557\n",
            "3.925384044647217 2.705538034439087\n",
            "3.886920928955078 2.7578351497650146\n",
            "3.8500747680664062 2.8078761100769043\n",
            "3.8147943019866943 2.855771064758301\n",
            "3.7810189723968506 2.901615858078003\n",
            "3.7486863136291504 2.945500135421753\n",
            "3.717735528945923 2.987508535385132\n",
            "3.688107490539551 3.0277209281921387\n",
            "3.6597464084625244 3.066214084625244\n",
            "3.6325979232788086 3.1030614376068115\n",
            "3.606609344482422 3.138333797454834\n",
            "3.5817322731018066 3.172098398208618\n",
            "3.5579187870025635 3.2044198513031006\n",
            "3.535122871398926 3.2353594303131104\n",
            "3.5133016109466553 3.2649760246276855\n",
            "3.49241304397583 3.2933273315429688\n",
            "3.4724175930023193 3.3204660415649414\n",
            "3.4532768726348877 3.346444845199585\n",
            "3.4349544048309326 3.3713128566741943\n",
            "3.4174153804779053 3.3951175212860107\n",
            "3.4006259441375732 3.417904853820801\n",
            "3.384554386138916 3.4397177696228027\n",
            "3.369168996810913 3.4605984687805176\n",
            "3.3544423580169678 3.480586528778076\n",
            "3.3403453826904297 3.499720335006714\n",
            "3.326850414276123 3.518036127090454\n",
            "3.313931941986084 3.535569906234741\n",
            "3.3015663623809814 3.5523531436920166\n",
            "3.289729118347168 3.5684189796447754\n",
            "3.278398275375366 3.5837979316711426\n",
            "3.267551898956299 3.5985195636749268\n",
            "3.257169008255005 3.6126112937927246\n",
            "3.247230291366577 3.626101016998291\n",
            "3.23771595954895 3.639014720916748\n",
            "3.2286081314086914 3.6513755321502686\n",
            "3.2198903560638428 3.6632080078125\n",
            "3.2115447521209717 3.674534559249878\n",
            "3.2035562992095947 3.6853766441345215\n",
            "3.1959095001220703 3.6957554817199707\n",
            "3.188589334487915 3.70569109916687\n"
          ]
        }
      ]
    },
    {
      "cell_type": "code",
      "metadata": {
        "id": "czzMH5E6gnlo"
      },
      "source": [
        ""
      ],
      "execution_count": null,
      "outputs": []
    }
  ]
}